{
 "cells": [
  {
   "cell_type": "code",
   "execution_count": 1,
   "id": "spoken-brief",
   "metadata": {},
   "outputs": [],
   "source": [
    "#include <chrono>\n",
    "#include <ctime>\n",
    "#include <algoviz/SVG.hpp>\n",
    "#include \"Object.hpp\"\n",
    "#include \"Player.hpp\"\n",
    "#include \"ObstacleManager.hpp\"\n",
    "\n",
    "using namespace std;\n",
    "\n",
    "AlgoViz::clear();\n",
    "\n",
    "//Anzeigeobjekte\n",
    "SVG canvas = SVG(400, 400, 20, 20, \"Projekt\");\n",
    "Player player = Player(200, 200, &canvas);\n",
    "Storm leftBorder = Storm(&canvas, nullptr);\n",
    "ObstacleManager obstacleManager = ObstacleManager(&canvas, &leftBorder);\n",
    "Text fps = Text(\"\", 2, 20, &canvas);\n",
    "\n",
    "bool continueGame = true;\n",
    "\n",
    "string button = \"\";\n",
    "double deltaTime = 0.05;\n",
    "double totalGameTime = 0;"
   ]
  },
  {
   "cell_type": "code",
   "execution_count": 2,
   "id": "binding-fluid",
   "metadata": {},
   "outputs": [],
   "source": [
    "void updateGame(string button, double deltaTime) {\n",
    "    //Bewegung\n",
    "    player.update(button, deltaTime);\n",
    "    obstacleManager.updateAll(deltaTime);\n",
    "    if(rand() % 100 < (50.0 + 0.2 * totalGameTime) * deltaTime) {\n",
    "        obstacleManager.addTrunk();\n",
    "        obstacleManager.addCloud();\n",
    "    }\n",
    "    if(obstacleManager.hasCollidingObject(&player) || button == \"q\") {\n",
    "        continueGame = false;\n",
    "    }\n",
    "}"
   ]
  },
  {
   "cell_type": "code",
   "execution_count": null,
   "id": "headed-agenda",
   "metadata": {},
   "outputs": [],
   "source": [
    "AlgoViz::sleep(500);\n",
    "while (continueGame) {\n",
    "    /*\n",
    "     * Die Dauer des vorherigen Schleifendurchlaufs\n",
    "     * wird als Referenz dafür verwendet, wieviel\n",
    "     * sich Objekte bewegen sollen.\n",
    "     * Dadurch bewegen sie sich pro Sekunde immer\n",
    "     * ungefähr gleich schnell.\n",
    "     */\n",
    "    auto start = chrono::system_clock::now();\n",
    "    button = canvas.lastKey();\n",
    "    \n",
    "    fps.setText(to_string((int)(1 / deltaTime)) + \" FPS\");\n",
    "    totalGameTime += deltaTime;\n",
    "    \n",
    "    updateGame(button, deltaTime);\n",
    "    \n",
    "    auto end = std::chrono::system_clock::now();\n",
    "    //Dauer des Schleifendurchlaufs ausrechnen und speichern\n",
    "    chrono::duration<double> elapsed_seconds = end-start;\n",
    "    deltaTime = elapsed_seconds.count();\n",
    "}\n",
    "fps.setText(\"Total Time: \" + to_string((int)(totalGameTime)) + \" Seconds\");"
   ]
  },
  {
   "cell_type": "code",
   "execution_count": null,
   "id": "b6d20abb",
   "metadata": {},
   "outputs": [],
   "source": [
    "obstacleManager.front();\n",
    "Rect(obstacleManager.getCurrent()->getCxMin(),obstacleManager.getCurrent()->getCyMin(),obstacleManager.getCurrent()->getCxMax()-obstacleManager.getCurrent()->getCxMin(),obstacleManager.getCurrent()->getCyMax()-obstacleManager.getCurrent()->getCyMin(), &canvas);"
   ]
  }
 ],
 "metadata": {
  "kernelspec": {
   "display_name": "C++14",
   "language": "C++14",
   "name": "xcpp14"
  },
  "language_info": {
   "codemirror_mode": "text/x-c++src",
   "file_extension": ".cpp",
   "mimetype": "text/x-c++src",
   "name": "c++",
   "version": "14"
  }
 },
 "nbformat": 4,
 "nbformat_minor": 5
}
